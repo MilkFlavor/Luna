{
  "cells": [
    {
      "cell_type": "code",
      "execution_count": 2,
      "metadata": {
        "colab": {
          "base_uri": "https://localhost:8080/"
        },
        "id": "nKsTzIWpSQnX",
        "outputId": "9664db15-86fe-4db3-ccf5-33eb4cd4e60d"
      },
      "outputs": [
        {
          "data": {
            "text/plain": [
              "512"
            ]
          },
          "execution_count": 2,
          "metadata": {},
          "output_type": "execute_result"
        }
      ],
      "source": [
        "import subprocess\n",
        "import os\n",
        "subprocess.run(['rm -rf /content/*'], shell=True, check=True)\n",
        "subprocess.run(['sudo', 'apt-get', 'update -y'])\n",
        "subprocess.run(['sudo', 'apt-get', 'upgrade -y'])\n",
        "os.system(\"sudo update-alternatives --install /usr/bin/python3 python3 /usr/bin/python3.9 2\")"
      ]
    },
    {
      "cell_type": "code",
      "execution_count": null,
      "metadata": {
        "colab": {
          "base_uri": "https://localhost:8080/"
        },
        "id": "pjOkbsH0SQna",
        "outputId": "62a7d109-bafe-43d4-dec8-831169f7d599"
      },
      "outputs": [],
      "source": [
        "subprocess.call(['sudo', 'apt-get', 'install', \"python3.9\"])\n",
        "subprocess.call(['sudo', 'apt-get', 'install', \"python3-pip\"])\n",
        "subprocess.call(['sudo', 'apt-get', 'install', \"python3.9-distutils\"])"
      ]
    },
    {
      "cell_type": "code",
      "execution_count": null,
      "metadata": {
        "colab": {
          "base_uri": "https://localhost:8080/"
        },
        "id": "DaGjmAUbQ5kr",
        "outputId": "2b2e3d29-f6f3-4877-bfa8-43c487e45c04"
      },
      "outputs": [],
      "source": [
        "subprocess.call(\"python3.9 -m pip install --upgrade pip\", shell=True)\n",
        "subprocess.call(\"python3.9 -m pip install --upgrade distlib\", shell=True)\n",
        "subprocess.call(\"python3.9 -m pip install --upgrade setuptools\", shell=True)"
      ]
    },
    {
      "cell_type": "code",
      "execution_count": null,
      "metadata": {
        "colab": {
          "base_uri": "https://localhost:8080/",
          "height": 1000
        },
        "id": "9mgxh7JUSQnb",
        "outputId": "d18a2518-e530-44a6-e4b6-c0115cbe5397"
      },
      "outputs": [],
      "source": [
        "%cd /content/\n",
        "subprocess.call(\"git clone https://github.com/MilkFlavor/Luna.git\", shell=True)\n",
        "\n",
        "%cd /content/Luna/modules/\n",
        "%pip install -r requirements.txt"
      ]
    },
    {
      "cell_type": "code",
      "execution_count": null,
      "metadata": {
        "colab": {
          "base_uri": "https://localhost:8080/"
        },
        "id": "byqUKnleSQnb",
        "outputId": "4efd189d-3d16-47e8-9b24-c3ba7daa38b5"
      },
      "outputs": [],
      "source": [
        "%cd /content/\n",
        "subprocess.run(['mkdir', '/content/assets/'])\n",
        "subprocess.run(['mkdir', '/content/assets/models/'])\n",
        "subprocess.run(['mkdir', '/content/assets/input/'])\n",
        "subprocess.run(['mkdir', '/content/assets/output/'])\n"
      ]
    },
    {
      "cell_type": "code",
      "execution_count": null,
      "metadata": {
        "colab": {
          "base_uri": "https://localhost:8080/"
        },
        "id": "3_AB5hIqSQnc",
        "outputId": "bda53ebf-6d9b-4e39-fcf8-aa20bb649dd2"
      },
      "outputs": [],
      "source": [
        "import requests\n",
        "\n",
        "%cd /content/assets/models/\n",
        "\n",
        "dcp = requests.get(\"https://github.com/MilkFlavor/Luna/releases/download/assets/models.zip\")\n",
        "mrcnn = requests.get(\"https://github.com/MilkFlavor/Luna/releases/download/assets/4x_FatalPixels_340000_G.pth\")\n",
        "esrgan = requests.get(\"https://github.com/MilkFlavor/Luna/releases/download/assets/RRDB_PSNR_x4.pth\")\n",
        "hent_ai = requests.get(\"https://github.com/MilkFlavor/Luna/releases/download/assets/weights.h5\")\n",
        "\n",
        "with open(\"models.zip\", \"wb\") as f:\n",
        "    # Write the content of the response (r.content) to a  directory\n",
        "    f.write(dcp.content)\n",
        "\n",
        "with open(\"4x_FatalPixels_340000_G.pth\", \"wb\") as f:\n",
        "    # Write the content of the response (r.content) to a  directory\n",
        "    f.write(mrcnn.content)\n",
        "\n",
        "with open(\"RRDB_PSNR_x4.pth\", \"wb\") as f:\n",
        "    # Write the content of the response (r.content) to a  directory\n",
        "    f.write(esrgan.content)\n",
        "\n",
        "with open(\"weights.h5\", \"wb\") as f:\n",
        "    # Write the content of the response (r.content) to a  directory\n",
        "    f.write(hent_ai.content)\n"
      ]
    },
    {
      "cell_type": "code",
      "execution_count": null,
      "metadata": {
        "colab": {
          "base_uri": "https://localhost:8080/",
          "height": 70
        },
        "id": "SgIzZco4SQnd",
        "outputId": "1e51fe07-f64e-4912-ded6-6e031d9811fc"
      },
      "outputs": [],
      "source": [
        "%cd /content/Luna\n",
        "\n",
        "from zipfile import ZipFile\n",
        "#extract a zip file\n",
        "with ZipFile('/content/assets/models/models.zip', 'r') as zip:\n",
        "    zip.extractall(\"/content/Luna/modules/dcp/models/\")\n",
        "    print('Done')\n",
        "\n",
        "import shutil\n",
        "shutil.copy(\"/content/assets/models/weights.h5\", \"/content/Luna/modules/hai\")\n",
        "shutil.copy(\"/content/assets/models/4x_FatalPixels_340000_G.pth\", \"/content/Luna/modules/hai\")\n",
        "shutil.copy(\"/content/assets/models/RRDB_PSNR_x4.pth\", \"/content/Luna/modules/hai/esrgan/models\")"
      ]
    },
    {
      "cell_type": "code",
      "execution_count": null,
      "metadata": {
        "id": "6ThwuOmo9uvU"
      },
      "outputs": [],
      "source": [
        "%cd /content/Luna\n",
        "shutil.copytree(\"/content/assets/input\", \"/content/Luna/modules/convert/input\")\n",
        "\n",
        "%cd /content/Luna/modules/convert\n",
        "!python3.9 converter.py\n",
        "\n",
        "%cd /content/Luna\n",
        "shutil.copytree(\"/content/Luna/modules/convert/output\", \"/content/Luna/modules/hai/input/\")\n",
        "\n",
        "%cd hai\n",
        "!python3.9 hai.py\n",
        "\n",
        "%cd /content/Luna\n",
        "!mv \"/content/Luna/modules/hai/output\"/*.png \"/content/Luna/modules/dcp/input\"\n",
        "shutil.copytree(\"/content/Luna/modules/hai/output\", \"/content/Luna/modules/dcp/input/\")\n",
        "\n",
        "%cd dcp\n",
        "!python3.9 dcp.py\n",
        "\n",
        "%cd ..\n",
        "shutil.copytree(\"/content/Luna/modules/dcp/output\", \"/content/assets/output\")\n",
        "\n",
        "%cd .."
      ]
    }
  ],
  "metadata": {
    "colab": {
      "name": "Luna_colab.ipynb",
      "provenance": []
    },
    "kernelspec": {
      "display_name": "Python 3.9.2 64-bit",
      "language": "python",
      "name": "python3"
    },
    "language_info": {
      "name": "python",
      "version": "3.9.2"
    },
    "vscode": {
      "interpreter": {
        "hash": "916dbcbb3f70747c44a77c7bcd40155683ae19c65e1c03b4aa3499c5328201f1"
      }
    }
  },
  "nbformat": 4,
  "nbformat_minor": 0
}
