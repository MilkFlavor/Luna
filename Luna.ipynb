{
  "cells": [
    {
      "cell_type": "code",
      "execution_count": null,
      "metadata": {},
      "outputs": [],
      "source": [
        "\n",
        "import subprocess\n",
        "subprocess.run(['rm -rf /content/*'], shell=True, check=True)\n",
        "subprocess.run(['sudo', 'apt-get', 'update -y'])\n",
        "subprocess.run(['sudo', 'apt-get', 'upgrade -y'])\n",
        "subprocess.run([\"sudo update-alternatives --install /usr/bin/python3 python3 /usr/bin/python3.9 2\"])"
      ]
    },
    {
      "cell_type": "code",
      "execution_count": null,
      "metadata": {},
      "outputs": [],
      "source": [
        "subprocess.call(['sudo', 'apt-get', 'install', \"python3.9\"])\n",
        "subprocess.call(['sudo', 'apt-get', 'install', \"python3-pip\"])\n",
        "subprocess.call(['sudo', 'apt-get', 'install', \"python3.9-distutils\"])\n"
      ]
    },
    {
      "cell_type": "code",
      "execution_count": 1,
      "metadata": {
        "id": "DaGjmAUbQ5kr"
      },
      "outputs": [],
      "source": [
        "subprocess.call(\"python3.9 -m pip install --upgrade pip\", shell=True)\n",
        "subprocess.call(\"python3.9 -m pip install --upgrade distlib\", shell=True)\n",
        "subprocess.call(\"python3.9 -m pip install --upgrade setuptools\", shell=True)\n"
      ]
    },
    {
      "cell_type": "code",
      "execution_count": null,
      "metadata": {},
      "outputs": [],
      "source": [
        "%cd /content/\n",
        "subprocess.call(\"git clone https://github.com/MilkFlavor/Luna.git\", shell=True)\n",
        "\n",
        "subprocess.run(['cd', '/content/Luna/modules/'])\n",
        "%pip install -r requirements.txt\n"
      ]
    },
    {
      "cell_type": "code",
      "execution_count": null,
      "metadata": {},
      "outputs": [],
      "source": [
        "%cd /content/\n",
        "subprocess.run(['mkdir', '/content/assets/'])\n",
        "subprocess.run(['mkdir', '/content/assets/models/'])\n",
        "subprocess.run(['mkdir', '/content/assets/input/'])\n",
        "subprocess.run(['mkdir', '/content/assets/output/'])\n"
      ]
    },
    {
      "cell_type": "code",
      "execution_count": null,
      "metadata": {},
      "outputs": [],
      "source": [
        "subprocess.run(['cd', '/content/Luna/'])\n",
        "import requests\n",
        "\n",
        "subprocess.call(\"cd /content/assets/models\", shell=True)\n",
        "\n",
        "dcp = requests.get(\"https://github.com/MilkFlavor/Luna/releases/download/assets/models.zip\")\n",
        "mrcnn = requests.get(\"https://github.com/MilkFlavor/Luna/releases/download/assets/4x_FatalPixels_340000_G.pth\")\n",
        "esrgan = requests.get(\"https://github.com/MilkFlavor/Luna/releases/download/assets/RRDB_PSNR_x4.pth\")\n",
        "hent_ai = requests.get(\"https://github.com/MilkFlavor/Luna/releases/download/assets/weights.h5\")\n",
        "\n",
        "with open(\"models.zip\", \"wb\") as f:\n",
        "    # Write the content of the response (r.content) to a  directory\n",
        "    f.write(dcp.content)\n",
        "\n",
        "with open(\"4x_FatalPixels_340000_G.pth\", \"wb\") as f:\n",
        "    # Write the content of the response (r.content) to a  directory\n",
        "    f.write(mrcnn.content)\n",
        "\n",
        "with open(\"RRDB_PSNR_x4.pth\", \"wb\") as f:\n",
        "    # Write the content of the response (r.content) to a  directory\n",
        "    f.write(esrgan.content)\n",
        "\n",
        "with open(\"weights.h5\", \"wb\") as f:\n",
        "    # Write the content of the response (r.content) to a  directory\n",
        "    f.write(hent_ai.content)\n"
      ]
    },
    {
      "cell_type": "code",
      "execution_count": null,
      "metadata": {},
      "outputs": [],
      "source": [
        "subprocess.run(['cd', '/content/Luna/'])\n",
        "\n",
        "from zipfile import ZipFile\n",
        "#extract a zip file\n",
        "with ZipFile('/content/Luna/assets/model/model.zip', 'r') as zip:\n",
        "    zip.extractall(\"/content/Luna/modules/dcp/models/\")\n",
        "    print('Done')\n",
        "\n",
        "import shutil\n",
        "shutil.copy(\"/content/assets/models/weights.h5\", \"/content/Luna/modules/hai\")\n",
        "shutil.copy(\"/content/assets/models/4x_FatalPixels_340000_G.pth\", \"/content/Luna/modules/hai\")\n",
        "shutil.copy(\"/content/assets/models/RRDB_PSNR_x4.pth\", \"/content/Luna/modules/hai/esrgan/models\")"
      ]
    },
    {
      "cell_type": "code",
      "execution_count": null,
      "metadata": {
        "colab": {
          "base_uri": "https://localhost:8080/"
        },
        "id": "6ThwuOmo9uvU",
        "outputId": "f51ca1ca-d56a-4eec-bba8-4a2d3ee01558"
      },
      "outputs": [],
      "source": [
        "%cp \"/content/Assets/input\"/*.* \"/content/Luna/Modules/Convert/input\"\n",
        "\n",
        "%cd /content/Luna/Modules/Convert\n",
        "!python3.9 main.py\n",
        "\n",
        "%cd ..\n",
        "!mv \"/content/Luna/Modules/Convert/output\"/*.png \"/content/Luna/Modules/HentAI/input/\"\n",
        "\n",
        "%cd HentAI\n",
        "!python3.9 main.py\n",
        "\n",
        "%cd ..\n",
        "!mv \"/content/Luna/Modules/HentAI/output\"/*.png \"/content/Luna/Modules/DeepCreamPy/decensor_input\"\n",
        "\n",
        "%cd DeepCreamPy\n",
        "!python3.9 main.py\n",
        "\n",
        "%cd ..\n",
        "!mv \"/content/Luna/Modules/DeepCreamPy/decensor_output\"/*.png \"/content/Assets/output\"\n",
        "\n",
        "%cd .."
      ]
    }
  ],
  "metadata": {
    "colab": {
      "collapsed_sections": [],
      "name": "Luna_colab.ipynb",
      "provenance": []
    },
    "kernelspec": {
      "display_name": "Python 3",
      "name": "python3"
    },
    "language_info": {
      "name": "python"
    }
  },
  "nbformat": 4,
  "nbformat_minor": 0
}
