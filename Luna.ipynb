{
  "cells": [
    {
      "cell_type": "code",
      "execution_count": null,
      "metadata": {},
      "outputs": [],
      "source": [
        "import subprocess\n",
        "import os\n",
        "subprocess.run(['rm -rf /content/*'], shell=True, check=True)\n",
        "subprocess.run(['sudo', 'apt-get', 'update -y'])\n",
        "subprocess.run(['sudo', 'apt-get', 'upgrade -y'])\n",
        "os.system(\"sudo update-alternatives --install /usr/bin/python3 python3 /usr/bin/python3.9 2\")\n",
        "\n",
        "subprocess.call(['sudo', 'apt-get', 'install', \"python3.9\"])\n",
        "subprocess.call(['sudo', 'apt-get', 'install', \"python3-pip\"])\n",
        "subprocess.call(['sudo', 'apt-get', 'install', \"python3.9-distutils\"])\n",
        "\n",
        "subprocess.call(\"python3.9 -m pip install --upgrade pip\", shell=True)\n",
        "subprocess.call(\"python3.9 -m pip install --upgrade distlib\", shell=True)\n",
        "subprocess.call(\"python3.9 -m pip install --upgrade setuptools\", shell=True)"
      ]
    },
    {
      "cell_type": "code",
      "execution_count": null,
      "metadata": {},
      "outputs": [],
      "source": [
        "%cd /content/\n",
        "subprocess.call(\"git clone https://github.com/MilkFlavor/Luna.git\", shell=True)\n",
        "\n",
        "%cd /content/Luna/\n",
        "%pip install -r requirements.txt"
      ]
    },
    {
      "cell_type": "code",
      "execution_count": null,
      "metadata": {},
      "outputs": [],
      "source": [
        "%cd /content/\n",
        "subprocess.run(['mkdir', '/content/assets/'])\n",
        "subprocess.run(['mkdir', '/content/assets/models/'])\n",
        "subprocess.run(['mkdir', '/content/assets/input/'])\n",
        "subprocess.run(['mkdir', '/content/assets/output/'])"
      ]
    },
    {
      "cell_type": "code",
      "execution_count": null,
      "metadata": {},
      "outputs": [],
      "source": [
        "%cd /content/assets/models\n",
        "import requests\n",
        "\n",
        "dcp = requests.get(\"https://github.com/MilkFlavor/Luna/releases/download/assets/models.zip\")\n",
        "mrcnn = requests.get(\"https://github.com/MilkFlavor/Luna/releases/download/assets/4x_FatalPixels_340000_G.pth\")\n",
        "esrgan = requests.get(\"https://github.com/MilkFlavor/Luna/releases/download/assets/RRDB_PSNR_x4.pth\")\n",
        "hent_ai = requests.get(\"https://github.com/MilkFlavor/Luna/releases/download/assets/weights.h5\")\n",
        "\n",
        "with open(\"models.zip\", \"wb\") as f:\n",
        "    # Write the content of the response (r.content) to a  directory\n",
        "    f.write(dcp.content)\n",
        "\n",
        "with open(\"4x_FatalPixels_340000_G.pth\", \"wb\") as f:\n",
        "    # Write the content of the response (r.content) to a  directory\n",
        "    f.write(mrcnn.content)\n",
        "\n",
        "with open(\"RRDB_PSNR_x4.pth\", \"wb\") as f:\n",
        "    # Write the content of the response (r.content) to a  directory\n",
        "    f.write(esrgan.content)\n",
        "\n",
        "with open(\"weights.h5\", \"wb\") as f:\n",
        "    # Write the content of the response (r.content) to a  directory\n",
        "    f.write(hent_ai.content)"
      ]
    },
    {
      "cell_type": "code",
      "execution_count": null,
      "metadata": {},
      "outputs": [],
      "source": [
        "%cd /content/Luna/\n",
        "\n",
        "from zipfile import ZipFile\n",
        "#extract a zip file\n",
        "with ZipFile('/content/assets/models/models.zip', 'r') as zip:\n",
        "    zip.extractall(\"/content/Luna/modules/dcp/models/\")\n",
        "    print('Done')\n",
        "\n",
        "import shutil\n",
        "shutil.copy(\"/content/assets/models/weights.h5\", \"/content/Luna/modules/hai\")\n",
        "shutil.copy(\"/content/assets/models/4x_FatalPixels_340000_G.pth\", \"/content/Luna/modules/hai\")\n",
        "shutil.copy(\"/content/assets/models/RRDB_PSNR_x4.pth\", \"/content/Luna/modules/hai/esrgan/models\")"
      ]
    },
    {
      "cell_type": "code",
      "execution_count": null,
      "metadata": {},
      "outputs": [],
      "source": [
        "os.mkdir(\"/content/Luna/modules/convert/input\")\n",
        "os.mkdir(\"/content/Luna/modules/convert/output\")\n",
        "\n",
        "os.mkdir(\"/content/Luna/modules/hai/input\")\n",
        "os.mkdir(\"/content/Luna/modules/hai/output\")\n",
        "\n",
        "os.mkdir(\"/content/Luna/modules/dcp/input\")\n",
        "os.mkdir(\"/content/Luna/modules/dcp/output\")\n",
        "\n",
        "os.mkdir(\"/content/Luna/modules/tone/input\")\n",
        "os.mkdir(\"/content/Luna/modules/tone/output\")\n",
        "\n",
        "os.mkdir(\"/content/Luna/modules/upscale/input\")\n",
        "os.mkdir(\"/content/Luna/modules/upscale/output\")"
      ]
    },
    {
      "cell_type": "code",
      "execution_count": null,
      "metadata": {
        "colab": {
          "base_uri": "https://localhost:8080/"
        },
        "id": "6ThwuOmo9uvU",
        "outputId": "f51ca1ca-d56a-4eec-bba8-4a2d3ee01558"
      },
      "outputs": [],
      "source": [
        "%cd /content/Luna\n",
        "%cp /content/assets/input/* /content/Luna/modules/convert/input\n",
        "\n",
        "%cd /content/Luna/modules/convert\n",
        "!python3.9 converter.py\n",
        "\n",
        "%cd /content/Luna/modules\n",
        "%cp /content/Luna/modules/convert/output/* /content/Luna/modules/tone/input/\n",
        "\n",
        "%cd tone\n",
        "!python3.9 tone.py\n",
        "\n",
        "%cd /content/Luna/modules\n",
        "%cp /content/Luna/modules/tone/output/* /content/Luna/modules/hai/input/\n",
        "\n",
        "%cd hai\n",
        "!python3.9 hai.py\n",
        "\n",
        "%cd /content/Luna/modules\n",
        "%cp /content/Luna/modules/hai/output/* /content/Luna/modules/dcp/input/\n",
        "\n",
        "%cd dcp\n",
        "!python3.9 dcp.py\n",
        "\n",
        "%cd /content/Luna/modules\n",
        "%cp /content/Luna/modules/dcp/output/* /content/Luna/modules/upscale/input/\n",
        "\n",
        "%cd upscale\n",
        "!python3.9 main.py\n",
        "\n",
        "%cd ..\n",
        "%cp /content/Luna/modules/upscale/output/* /content/assets/output\n",
        "\n",
        "%cd .."
      ]
    }
  ],
  "metadata": {
    "colab": {
      "collapsed_sections": [],
      "name": "Luna_colab.ipynb",
      "provenance": []
    },
    "kernelspec": {
      "display_name": "Python 3.9.2 64-bit",
      "language": "python",
      "name": "python3"
    },
    "language_info": {
      "name": "python",
      "version": "3.9.2"
    },
    "vscode": {
      "interpreter": {
        "hash": "916dbcbb3f70747c44a77c7bcd40155683ae19c65e1c03b4aa3499c5328201f1"
      }
    }
  },
  "nbformat": 4,
  "nbformat_minor": 0
}
